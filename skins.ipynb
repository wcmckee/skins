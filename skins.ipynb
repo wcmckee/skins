{
 "metadata": {
  "name": "skins"
 },
 "nbformat": 3,
 "nbformat_minor": 0,
 "worksheets": [
  {
   "cells": [
    {
     "cell_type": "code",
     "collapsed": false,
     "input": [
      "from PIL import Image\n",
      "from PIL import ImageEnhance\n",
      "from PIL import ImageChops\n",
      "from PIL import ImageFilter\n",
      "import random\n",
      "import os\n",
      "import sys\n",
      "import glob"
     ],
     "language": "python",
     "metadata": {},
     "outputs": [],
     "prompt_number": 362
    },
    {
     "cell_type": "code",
     "collapsed": false,
     "input": [
      "devInput = ('/home/will/Desktop/skins/')"
     ],
     "language": "python",
     "metadata": {},
     "outputs": [],
     "prompt_number": 363
    },
    {
     "cell_type": "code",
     "collapsed": false,
     "input": [
      "os.chdir(devInput)"
     ],
     "language": "python",
     "metadata": {},
     "outputs": [],
     "prompt_number": 364
    },
    {
     "cell_type": "code",
     "collapsed": false,
     "input": [
      "daLizt = []"
     ],
     "language": "python",
     "metadata": {},
     "outputs": [],
     "prompt_number": 365
    },
    {
     "cell_type": "code",
     "collapsed": false,
     "input": [
      "for daLoopz in range(0,3):\n",
      "    daLizt.append(random.choice(os.listdir(devInput)))"
     ],
     "language": "python",
     "metadata": {},
     "outputs": [],
     "prompt_number": 366
    },
    {
     "cell_type": "code",
     "collapsed": false,
     "input": [
      "daLizt.append(random.choice(os.listdir(devInput)))"
     ],
     "language": "python",
     "metadata": {},
     "outputs": [],
     "prompt_number": 367
    },
    {
     "cell_type": "code",
     "collapsed": false,
     "input": [
      "print daLizt"
     ],
     "language": "python",
     "metadata": {},
     "outputs": [
      {
       "output_type": "stream",
       "stream": "stdout",
       "text": [
        "['cas25437.jpg', 'cas33252.jpg', 'cas47628.jpg', 'cas24242.jpg']"
       ]
      },
      {
       "output_type": "stream",
       "stream": "stdout",
       "text": [
        "\n"
       ]
      }
     ],
     "prompt_number": 368
    },
    {
     "cell_type": "code",
     "collapsed": false,
     "input": [
      "daLimp = len(daLizt)"
     ],
     "language": "python",
     "metadata": {},
     "outputs": [],
     "prompt_number": 369
    },
    {
     "cell_type": "code",
     "collapsed": false,
     "input": [
      "liztnum = random.randint(0, daLimp)"
     ],
     "language": "python",
     "metadata": {},
     "outputs": [],
     "prompt_number": 370
    },
    {
     "cell_type": "code",
     "collapsed": false,
     "input": [
      "iimg = Image.open(daLizt[0])"
     ],
     "language": "python",
     "metadata": {},
     "outputs": [],
     "prompt_number": 371
    },
    {
     "cell_type": "code",
     "collapsed": false,
     "input": [],
     "language": "python",
     "metadata": {},
     "outputs": [],
     "prompt_number": 371
    },
    {
     "cell_type": "code",
     "collapsed": false,
     "input": [
      "iimg2 = Image.open(daLizt[1])"
     ],
     "language": "python",
     "metadata": {},
     "outputs": [],
     "prompt_number": 372
    },
    {
     "cell_type": "code",
     "collapsed": false,
     "input": [
      "iimg5 = Image.open(daLizt[2])"
     ],
     "language": "python",
     "metadata": {},
     "outputs": [],
     "prompt_number": 373
    },
    {
     "cell_type": "code",
     "collapsed": false,
     "input": [
      "imgz2 = Image.open(daLizt[3])"
     ],
     "language": "python",
     "metadata": {},
     "outputs": [],
     "prompt_number": 374
    },
    {
     "cell_type": "code",
     "collapsed": false,
     "input": [
      "width = 1920\n",
      "height = 1080"
     ],
     "language": "python",
     "metadata": {},
     "outputs": [],
     "prompt_number": 375
    },
    {
     "cell_type": "code",
     "collapsed": false,
     "input": [
      "iimg.resize((width, height), Image.NEAREST)"
     ],
     "language": "python",
     "metadata": {},
     "outputs": [
      {
       "output_type": "pyout",
       "prompt_number": 376,
       "text": [
        "<PIL.Image.Image image mode=RGB size=1920x1080 at 0x5EE3EA8>"
       ]
      }
     ],
     "prompt_number": 376
    },
    {
     "cell_type": "code",
     "collapsed": false,
     "input": [
      "near1 = iimg.resize((width, height), Image.BILINEAR)\n",
      "near2 = iimg.resize((width, height), Image.BICUBIC)\n",
      "near3 = iimg.resize((width, height), Image.ANTIALIAS)"
     ],
     "language": "python",
     "metadata": {},
     "outputs": [],
     "prompt_number": 377
    },
    {
     "cell_type": "code",
     "collapsed": false,
     "input": [
      "ext = '.jpg'"
     ],
     "language": "python",
     "metadata": {},
     "outputs": [],
     "prompt_number": 378
    },
    {
     "cell_type": "code",
     "collapsed": false,
     "input": [
      "near1.save('Near' + ext)"
     ],
     "language": "python",
     "metadata": {},
     "outputs": [],
     "prompt_number": 379
    },
    {
     "cell_type": "code",
     "collapsed": false,
     "input": [
      "near3.show()"
     ],
     "language": "python",
     "metadata": {},
     "outputs": [],
     "prompt_number": 380
    },
    {
     "cell_type": "code",
     "collapsed": false,
     "input": [
      "iimg3 = ImageChops.difference(iimg, iimg2)"
     ],
     "language": "python",
     "metadata": {},
     "outputs": [],
     "prompt_number": 381
    },
    {
     "cell_type": "code",
     "collapsed": false,
     "input": [
      "iimg3.save('04.jpg')"
     ],
     "language": "python",
     "metadata": {},
     "outputs": [],
     "prompt_number": 382
    },
    {
     "cell_type": "code",
     "collapsed": false,
     "input": [
      "iimg8 = ImageChops.difference(iimg2, imgz2).show()"
     ],
     "language": "python",
     "metadata": {},
     "outputs": [],
     "prompt_number": 383
    },
    {
     "cell_type": "code",
     "collapsed": false,
     "input": [
      "iimg5 = ImageChops.darker(iimg5, iimg)"
     ],
     "language": "python",
     "metadata": {},
     "outputs": [],
     "prompt_number": 384
    },
    {
     "cell_type": "code",
     "collapsed": false,
     "input": [
      "img6 = ImageChops.blend(iimg5, iimg, .5)"
     ],
     "language": "python",
     "metadata": {},
     "outputs": [],
     "prompt_number": 385
    },
    {
     "cell_type": "code",
     "collapsed": false,
     "input": [
      "iimgz7 = ImageChops.darker(iimg5, img6)"
     ],
     "language": "python",
     "metadata": {},
     "outputs": [],
     "prompt_number": 386
    },
    {
     "cell_type": "code",
     "collapsed": false,
     "input": [
      "iimgz8 = iimgz7.filter(ImageFilter.DETAIL)"
     ],
     "language": "python",
     "metadata": {},
     "outputs": [],
     "prompt_number": 387
    },
    {
     "cell_type": "code",
     "collapsed": false,
     "input": [
      "iimgz2 = ImageChops.blend(img6, img6, .2)"
     ],
     "language": "python",
     "metadata": {},
     "outputs": [],
     "prompt_number": 388
    },
    {
     "cell_type": "code",
     "collapsed": false,
     "input": [
      "imgz10 = iimgz2.filter(ImageFilter.CONTOUR)"
     ],
     "language": "python",
     "metadata": {},
     "outputs": [],
     "prompt_number": 389
    },
    {
     "cell_type": "code",
     "collapsed": false,
     "input": [
      "InImgz10 = ImageChops.invert(imgz10)"
     ],
     "language": "python",
     "metadata": {},
     "outputs": [],
     "prompt_number": 390
    },
    {
     "cell_type": "code",
     "collapsed": false,
     "input": [
      "fixImg = ImageEnhance.Color(InImgz10)\n",
      "DieImage = ImageEnhance.Contrast(InImgz10)"
     ],
     "language": "python",
     "metadata": {},
     "outputs": [],
     "prompt_number": 391
    },
    {
     "cell_type": "code",
     "collapsed": false,
     "input": [
      "newFix = fixImg.enhance(50)"
     ],
     "language": "python",
     "metadata": {},
     "outputs": [],
     "prompt_number": 392
    },
    {
     "cell_type": "code",
     "collapsed": false,
     "input": [
      "dieFix = DieImage.enhance(10)\n"
     ],
     "language": "python",
     "metadata": {},
     "outputs": [],
     "prompt_number": 393
    },
    {
     "cell_type": "code",
     "collapsed": false,
     "input": [],
     "language": "python",
     "metadata": {},
     "outputs": [],
     "prompt_number": 393
    },
    {
     "cell_type": "code",
     "collapsed": false,
     "input": [
      "randNumz = random.randint(1,10)"
     ],
     "language": "python",
     "metadata": {},
     "outputs": [],
     "prompt_number": 394
    },
    {
     "cell_type": "code",
     "collapsed": false,
     "input": [
      "os.chdir('/home/will/Desktop/output')"
     ],
     "language": "python",
     "metadata": {},
     "outputs": [],
     "prompt_number": 395
    },
    {
     "cell_type": "code",
     "collapsed": false,
     "input": [
      "\n",
      "imgz10.save(daLizt[1])\n",
      "iimg8.save(daLizt[2])\n",
      "iimg5.save(daLizt[3])"
     ],
     "language": "python",
     "metadata": {},
     "outputs": [
      {
       "ename": "AttributeError",
       "evalue": "'NoneType' object has no attribute 'save'",
       "output_type": "pyerr",
       "traceback": [
        "\u001b[0;31m---------------------------------------------------------------------------\u001b[0m\n\u001b[0;31mAttributeError\u001b[0m                            Traceback (most recent call last)",
        "\u001b[0;32m<ipython-input-396-b577c03bf458>\u001b[0m in \u001b[0;36m<module>\u001b[0;34m()\u001b[0m\n\u001b[1;32m      1\u001b[0m \u001b[0;34m\u001b[0m\u001b[0m\n\u001b[1;32m      2\u001b[0m \u001b[0mimgz10\u001b[0m\u001b[0;34m.\u001b[0m\u001b[0msave\u001b[0m\u001b[0;34m(\u001b[0m\u001b[0mdaLizt\u001b[0m\u001b[0;34m[\u001b[0m\u001b[0;36m1\u001b[0m\u001b[0;34m]\u001b[0m\u001b[0;34m)\u001b[0m\u001b[0;34m\u001b[0m\u001b[0m\n\u001b[0;32m----> 3\u001b[0;31m \u001b[0miimg8\u001b[0m\u001b[0;34m.\u001b[0m\u001b[0msave\u001b[0m\u001b[0;34m(\u001b[0m\u001b[0mdaLizt\u001b[0m\u001b[0;34m[\u001b[0m\u001b[0;36m2\u001b[0m\u001b[0;34m]\u001b[0m\u001b[0;34m)\u001b[0m\u001b[0;34m\u001b[0m\u001b[0m\n\u001b[0m\u001b[1;32m      4\u001b[0m \u001b[0miimg5\u001b[0m\u001b[0;34m.\u001b[0m\u001b[0msave\u001b[0m\u001b[0;34m(\u001b[0m\u001b[0mdaLizt\u001b[0m\u001b[0;34m[\u001b[0m\u001b[0;36m3\u001b[0m\u001b[0;34m]\u001b[0m\u001b[0;34m)\u001b[0m\u001b[0;34m\u001b[0m\u001b[0m\n",
        "\u001b[0;31mAttributeError\u001b[0m: 'NoneType' object has no attribute 'save'"
       ]
      }
     ],
     "prompt_number": 396
    },
    {
     "cell_type": "code",
     "collapsed": false,
     "input": [
      "img7 = ImageChops.invert(img6)\n"
     ],
     "language": "python",
     "metadata": {},
     "outputs": [],
     "prompt_number": 397
    },
    {
     "cell_type": "code",
     "collapsed": false,
     "input": [
      "enchane = ImageEnhance.Brightness(iimg)\n",
      "blendz = enchane.enhance(2)"
     ],
     "language": "python",
     "metadata": {},
     "outputs": [],
     "prompt_number": 398
    },
    {
     "cell_type": "code",
     "collapsed": false,
     "input": [
      "bluzImage = ImageChops.blend(iimgz2, iimg5, .3)"
     ],
     "language": "python",
     "metadata": {},
     "outputs": [],
     "prompt_number": 399
    },
    {
     "cell_type": "code",
     "collapsed": false,
     "input": [
      "cassie = random.choice(os.listdir('/home/will/Desktop/output'))"
     ],
     "language": "python",
     "metadata": {},
     "outputs": [],
     "prompt_number": 400
    },
    {
     "cell_type": "code",
     "collapsed": false,
     "input": [
      "mixCas = Image.open(cassie)"
     ],
     "language": "python",
     "metadata": {},
     "outputs": [],
     "prompt_number": 401
    },
    {
     "cell_type": "code",
     "collapsed": false,
     "input": [
      "mixCok = ImageChops.blend(iimg, mixCas, .5)"
     ],
     "language": "python",
     "metadata": {},
     "outputs": [],
     "prompt_number": 402
    },
    {
     "cell_type": "code",
     "collapsed": false,
     "input": [
      "os.chdir('/home/will/Desktop/cook/')"
     ],
     "language": "python",
     "metadata": {},
     "outputs": [],
     "prompt_number": 403
    },
    {
     "cell_type": "code",
     "collapsed": false,
     "input": [
      "cassie = random.choice(os.listdir('/home/will/Desktop/cook/'))"
     ],
     "language": "python",
     "metadata": {},
     "outputs": [],
     "prompt_number": 404
    },
    {
     "cell_type": "code",
     "collapsed": false,
     "input": [
      "cassie2 = random.choice(os.listdir('/home/will/Desktop/cook/'))"
     ],
     "language": "python",
     "metadata": {},
     "outputs": [],
     "prompt_number": 405
    },
    {
     "cell_type": "code",
     "collapsed": false,
     "input": [
      "cassie3 = random.choice(os.listdir('/home/will/Desktop/cook/'))"
     ],
     "language": "python",
     "metadata": {},
     "outputs": [],
     "prompt_number": 406
    },
    {
     "cell_type": "code",
     "collapsed": false,
     "input": [
      "arcImage = Image.open(cassie)"
     ],
     "language": "python",
     "metadata": {},
     "outputs": [],
     "prompt_number": 407
    },
    {
     "cell_type": "code",
     "collapsed": false,
     "input": [
      "arcImage2 = Image.open(cassie2)"
     ],
     "language": "python",
     "metadata": {},
     "outputs": [],
     "prompt_number": 408
    },
    {
     "cell_type": "code",
     "collapsed": false,
     "input": [
      "arcImage3 = Image.open(cassie3)"
     ],
     "language": "python",
     "metadata": {},
     "outputs": [],
     "prompt_number": 409
    },
    {
     "cell_type": "code",
     "collapsed": false,
     "input": [
      "os.chdir('/home/will/Desktop/arcOut/')"
     ],
     "language": "python",
     "metadata": {},
     "outputs": [],
     "prompt_number": 410
    },
    {
     "cell_type": "code",
     "collapsed": false,
     "input": [
      "arcSwap = ImageChops.blend(arcImage, arcImage2, .5)"
     ],
     "language": "python",
     "metadata": {},
     "outputs": [],
     "prompt_number": 411
    },
    {
     "cell_type": "code",
     "collapsed": false,
     "input": [
      "\n",
      "arcSwap.save(cassie)"
     ],
     "language": "python",
     "metadata": {},
     "outputs": [],
     "prompt_number": 412
    },
    {
     "cell_type": "code",
     "collapsed": false,
     "input": [
      "arcBlend = ImageChops.darker(arcSwap, arcImage2)\n",
      "arcBlend.save(cassie2)"
     ],
     "language": "python",
     "metadata": {},
     "outputs": [],
     "prompt_number": 413
    },
    {
     "cell_type": "code",
     "collapsed": false,
     "input": [
      "arcCompo = ImageChops.blend(arcImage2, arcImage3, .8)"
     ],
     "language": "python",
     "metadata": {},
     "outputs": [],
     "prompt_number": 414
    },
    {
     "cell_type": "code",
     "collapsed": false,
     "input": [
      "ls"
     ],
     "language": "python",
     "metadata": {},
     "outputs": [
      {
       "output_type": "stream",
       "stream": "stdout",
       "text": [
        "04.jpg          arctic1498.jpg  arctic3089.jpg  arctic4767.jpg  arctic6415.jpg\r\n",
        "arctic0040.jpg  arctic1568.jpg  arctic3190.jpg  arctic4893.jpg  arctic6421.jpg\r\n",
        "arctic0068.jpg  arctic1626.jpg  arctic3191.jpg  arctic4901.jpg  arctic6598.jpg\r\n",
        "arctic0165.jpg  arctic1640.jpg  arctic3197.jpg  arctic4903.jpg  arctic6620.jpg\r\n",
        "arctic0180.jpg  arctic1658.jpg  arctic3336.jpg  arctic4923.jpg  arctic6635.jpg\r\n",
        "arctic0218.jpg  arctic1674.jpg  arctic3401.jpg  arctic4986.jpg  arctic6686.jpg\r\n",
        "arctic0220.jpg  arctic1730.jpg  arctic3440.jpg  arctic4995.jpg  arctic6694.jpg\r\n",
        "arctic0227.jpg  arctic1741.jpg  arctic3662.jpg  arctic5043.jpg  arctic6699.jpg\r\n",
        "arctic0293.jpg  arctic1788.jpg  arctic3825.jpg  arctic5156.jpg  arctic6727.jpg\r\n",
        "arctic0301.jpg  arctic1875.jpg  arctic3829.jpg  arctic5218.jpg  arctic6737.jpg\r\n",
        "arctic0318.jpg  arctic1894.jpg  arctic3843.jpg  arctic5239.jpg  arctic6787.jpg\r\n",
        "arctic0379.jpg  arctic1903.jpg  arctic3845.jpg  arctic5244.jpg  arctic6922.jpg\r\n",
        "arctic0440.jpg  arctic2023.jpg  arctic3869.jpg  arctic5368.jpg  arctic7149.jpg\r\n",
        "arctic0459.jpg  arctic2067.jpg  arctic3893.jpg  arctic5389.jpg  arctic7152.jpg\r\n",
        "arctic0546.jpg  arctic2265.jpg  arctic3895.jpg  arctic5471.jpg  arctic7173.jpg\r\n",
        "arctic0653.jpg  arctic2330.jpg  arctic3940.jpg  arctic5554.jpg  cook0230.jpg\r\n",
        "arctic0671.jpg  arctic2352.jpg  arctic3951.jpg  arctic5555.jpg  cook0294.jpg\r\n",
        "arctic0677.jpg  arctic2440.jpg  arctic4037.jpg  arctic5602.jpg  cook0337.jpg\r\n",
        "arctic0683.jpg  arctic2488.jpg  arctic4106.jpg  arctic5630.jpg  cook0345.jpg\r\n",
        "arctic0724.jpg  arctic2501.jpg  arctic4118.jpg  arctic5738.jpg  cook0390.jpg\r\n",
        "arctic0842.jpg  arctic2513.jpg  arctic4164.jpg  arctic5794.jpg  cook0427.jpg\r\n",
        "arctic0902.jpg  arctic2601.jpg  arctic4207.jpg  arctic5803.jpg  cook0562.jpg\r\n",
        "arctic0942.jpg  arctic2666.jpg  arctic4293.jpg  arctic5807.jpg  cook0664.jpg\r\n",
        "arctic0983.jpg  arctic2689.jpg  arctic4381.jpg  arctic5812.jpg  cook0712.jpg\r\n",
        "arctic0992.jpg  arctic2695.jpg  arctic4428.jpg  arctic5822.jpg  cook0837.jpg\r\n",
        "arctic1019.jpg  arctic2705.jpg  arctic4537.jpg  arctic5824.jpg  cook0944.jpg\r\n",
        "arctic1030.jpg  arctic2794.jpg  arctic4615.jpg  arctic5945.jpg  cook0961.jpg\r\n",
        "arctic1127.jpg  arctic2801.jpg  arctic4629.jpg  arctic5987.jpg  cook0993.jpg\r\n",
        "arctic1283.jpg  arctic2828.jpg  arctic4657.jpg  arctic5996.jpg  cook1009.jpg\r\n",
        "arctic1297.jpg  arctic2866.jpg  arctic4690.jpg  arctic6095.jpg  cook1091.jpg\r\n",
        "arctic1322.jpg  arctic2909.jpg  arctic4709.jpg  arctic6146.jpg  cook1394.jpg\r\n",
        "arctic1347.jpg  arctic2942.jpg  arctic4711.jpg  arctic6181.jpg  cook1402.jpg\r\n",
        "arctic1391.jpg  arctic2962.jpg  arctic4721.jpg  arctic6223.jpg  cook1407.jpg\r\n",
        "arctic1463.jpg  arctic2982.jpg  arctic4740.jpg  arctic6241.jpg  hello.PNG\r\n",
        "arctic1491.jpg  arctic3017.jpg  arctic4756.jpg  arctic6249.jpg  \u001b[0m\u001b[01;34moutz\u001b[0m/\r\n",
        "arctic1497.jpg  arctic3030.jpg  arctic4764.jpg  arctic6273.jpg\r\n"
       ]
      }
     ],
     "prompt_number": 415
    },
    {
     "cell_type": "code",
     "collapsed": false,
     "input": [
      "\n",
      "arcCompo.save(cassie3)"
     ],
     "language": "python",
     "metadata": {},
     "outputs": [],
     "prompt_number": 416
    },
    {
     "cell_type": "code",
     "collapsed": false,
     "input": [],
     "language": "python",
     "metadata": {},
     "outputs": [],
     "prompt_number": 416
    },
    {
     "cell_type": "code",
     "collapsed": false,
     "input": [],
     "language": "python",
     "metadata": {},
     "outputs": [],
     "prompt_number": 416
    },
    {
     "cell_type": "code",
     "collapsed": false,
     "input": [],
     "language": "python",
     "metadata": {},
     "outputs": [],
     "prompt_number": 416
    },
    {
     "cell_type": "code",
     "collapsed": false,
     "input": [],
     "language": "python",
     "metadata": {},
     "outputs": []
    },
    {
     "cell_type": "code",
     "collapsed": false,
     "input": [],
     "language": "python",
     "metadata": {},
     "outputs": []
    },
    {
     "cell_type": "code",
     "collapsed": false,
     "input": [],
     "language": "python",
     "metadata": {},
     "outputs": []
    },
    {
     "cell_type": "code",
     "collapsed": false,
     "input": [],
     "language": "python",
     "metadata": {},
     "outputs": []
    }
   ],
   "metadata": {}
  }
 ]
}