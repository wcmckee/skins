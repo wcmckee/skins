{
 "metadata": {
  "name": "karen"
 },
 "nbformat": 3,
 "nbformat_minor": 0,
 "worksheets": [
  {
   "cells": [
    {
     "cell_type": "code",
     "collapsed": false,
     "input": [
      "\"\"\"\n",
      "Product Inventory Project - Create an application which manages\n",
      "an inventory of products. Create a product class which has a\n",
      "price, id, and quantity on hand. Then create an inventory class\n",
      "which keeps track of various products and can sum up the inventory\n",
      "value.\n",
      "\"\"\"\n",
      "\n",
      "class Product:\n",
      "\n",
      "    def __init__(self, price, pid, qty):\n",
      "        \"\"\"\n",
      "Class constructor that needs a price, a product id,\n",
      "and quantity.\n",
      "\"\"\"\n",
      "        self.price = price\n",
      "        self.pid = pid\n",
      "        self.qty = qty\n",
      "\n",
      "    def update_qty(self, qty, method='add'):\n",
      "        \"\"\"\n",
      "Updates the quantity of produts. By default, adds the\n",
      "passed quantity. Pass method as 'subtract' to subtract\n",
      "the quantity.\n",
      "\"\"\"\n",
      "        if method == 'add':\n",
      "            self.qty += qty\n",
      "        elif method == 'subtract':\n",
      "            self.qty = max(0, self.qty - qty)\n",
      "\n",
      "    def print_product(self):\n",
      "        \"\"\"\n",
      "Prints a single product.\n",
      "\"\"\"\n",
      "        print '%d\\t%s\\t%.02f each' % (self.pid, self.qty, self.price)\n",
      "\n",
      "class Inventory:\n",
      "\n",
      "    def __init__(self):\n",
      "        \"\"\"\n",
      "Initializes the class instance.\n",
      "\"\"\"\n",
      "        self.products = [] # list to hold all products\n",
      "\n",
      "    def add(self, product):\n",
      "        \"\"\"\n",
      "Adds a passed Product to the list of products.\n",
      "\"\"\"\n",
      "        self.products.append(product)\n",
      "\n",
      "    def print_inventory(self):\n",
      "        \"\"\"\n",
      "Prints the current inventory, and the total value\n",
      "of products.\n",
      "\"\"\"\n",
      "        value = 0\n",
      "        for product in self.products:\n",
      "            print '%d\\t%s\\t%.02f each' % (product.pid,\n",
      "                                          product.qty,\n",
      "                                          product.price)\n",
      "            value += (product.price * product.qty)\n",
      "        print '\\nTotal value: %.02f' % value\n",
      "\n",
      "if __name__ == '__main__':\n",
      "    p1 = Product(1.4, 123, 5)\n",
      "    p2 = Product(1, 3432, 100)\n",
      "    p3 = Product(100.4, 2342, 99)\n",
      "\n",
      "\n",
      "    i = Inventory()\n",
      "    i.add(p1)\n",
      "    i.add(p2)\n",
      "    i.add(p3)\n",
      "    i.print_inventory()\n",
      "\n",
      "    p1.update_qty(10)\n",
      "    i.print_inventory()\n",
      "    \n",
      "    p1.update_qty(10, method='subtract')\n",
      "    i.print_inventory()\n",
      "\n"
     ],
     "language": "python",
     "metadata": {},
     "outputs": [
      {
       "output_type": "stream",
       "stream": "stdout",
       "text": [
        "123\t5\t1.40 each\n",
        "3432\t100\t1.00 each\n",
        "2342\t99\t100.40 each\n",
        "\n",
        "Total value: 10046.60\n",
        "123\t15\t1.40 each\n",
        "3432\t100\t1.00 each\n",
        "2342\t99\t100.40 each\n",
        "\n",
        "Total value: 10060.60\n",
        "123\t5\t1.40 each\n",
        "3432\t100\t1.00 each\n",
        "2342\t99\t100.40 each\n",
        "\n",
        "Total value: 10046.60\n"
       ]
      }
     ],
     "prompt_number": 1
    },
    {
     "cell_type": "code",
     "collapsed": false,
     "input": [
      "i.print_inventory"
     ],
     "language": "python",
     "metadata": {},
     "outputs": [
      {
       "output_type": "pyout",
       "prompt_number": 2,
       "text": [
        "<bound method Inventory.print_inventory of <__main__.Inventory instance at 0x37ff560>>"
       ]
      }
     ],
     "prompt_number": 2
    },
    {
     "cell_type": "code",
     "collapsed": false,
     "input": [
      "i.add('food')"
     ],
     "language": "python",
     "metadata": {},
     "outputs": [],
     "prompt_number": 3
    },
    {
     "cell_type": "code",
     "collapsed": false,
     "input": [
      "for data in i:\n",
      "    print data"
     ],
     "language": "python",
     "metadata": {},
     "outputs": [
      {
       "ename": "TypeError",
       "evalue": "iteration over non-sequence",
       "output_type": "pyerr",
       "traceback": [
        "\u001b[0;31m---------------------------------------------------------------------------\u001b[0m\n\u001b[0;31mTypeError\u001b[0m                                 Traceback (most recent call last)",
        "\u001b[0;32m<ipython-input-5-cc773922fb80>\u001b[0m in \u001b[0;36m<module>\u001b[0;34m()\u001b[0m\n\u001b[0;32m----> 1\u001b[0;31m \u001b[0;32mfor\u001b[0m \u001b[0mdata\u001b[0m \u001b[0;32min\u001b[0m \u001b[0mi\u001b[0m\u001b[0;34m:\u001b[0m\u001b[0;34m\u001b[0m\u001b[0m\n\u001b[0m\u001b[1;32m      2\u001b[0m     \u001b[0;32mprint\u001b[0m \u001b[0mdata\u001b[0m\u001b[0;34m\u001b[0m\u001b[0m\n",
        "\u001b[0;31mTypeError\u001b[0m: iteration over non-sequence"
       ]
      }
     ],
     "prompt_number": 5
    },
    {
     "cell_type": "code",
     "collapsed": false,
     "input": [
      "# -*- coding: cp1252 -*-\n",
      "\"\"\"\n",
      "Page Scraper - Create an application which connects to a\n",
      "site and pulls out all links, or images, and saves them to\n",
      "a list. Optional: Organize the indexed content and don\u2019t\n",
      "allow duplicates. Have it put the results into an easily\n",
      "searchable index file.\n",
      "\"\"\"\n",
      "\n",
      "import urllib2\n",
      "from bs4 import BeautifulSoup\n",
      "\n",
      "\n",
      "def print_list(stuff):\n",
      "    print '\\n'.join(stuff)\n",
      "    print '\\n====================\\n'\n",
      "\n",
      "if __name__ == '__main__':\n",
      "    \n",
      "    url = raw_input('Enter a URL: ')\n",
      "\n",
      "    choice = input('What to scrape?\\n1. Links\\n2. Images\\n3. Both\\n')\n",
      "    \n",
      "    soup = BeautifulSoup(urllib2.urlopen(url).read())\n",
      "\n",
      "    if choice == 1 or choice == 3:\n",
      "        urls = [link.get('href') for link in soup.findAll('a')]\n",
      "        print 'URLs:'\n",
      "        print_list(urls)\n",
      "    if choice == 2 or choice ==3:\n",
      "        images = [image['src'] for image in soup.findAll(\"img\")]\n",
      "        print 'Images:'\n",
      "        print_list(images)"
     ],
     "language": "python",
     "metadata": {},
     "outputs": [
      {
       "ename": "SyntaxError",
       "evalue": "encoding declaration in Unicode string (<ipython-input-6-3d5607a81a64>, line 0)",
       "output_type": "pyerr",
       "traceback": [
        "\u001b[0;36m  File \u001b[0;32m\"<ipython-input-6-3d5607a81a64>\"\u001b[0;36m, line \u001b[0;32munknown\u001b[0m\n\u001b[0;31mSyntaxError\u001b[0m\u001b[0;31m:\u001b[0m encoding declaration in Unicode string\n"
       ]
      }
     ],
     "prompt_number": 6
    },
    {
     "cell_type": "code",
     "collapsed": false,
     "input": [
      "import requests"
     ],
     "language": "python",
     "metadata": {},
     "outputs": [],
     "prompt_number": 7
    },
    {
     "cell_type": "code",
     "collapsed": false,
     "input": [
      "from bs4 import BeautifulSoup"
     ],
     "language": "python",
     "metadata": {},
     "outputs": [],
     "prompt_number": 8
    },
    {
     "cell_type": "code",
     "collapsed": false,
     "input": [
      "def printInfo(alarm):\n",
      "    print 'data: '.join(stuff)"
     ],
     "language": "python",
     "metadata": {},
     "outputs": [],
     "prompt_number": 9
    },
    {
     "cell_type": "code",
     "collapsed": false,
     "input": [
      "if __name__  == '__main__':"
     ],
     "language": "python",
     "metadata": {},
     "outputs": []
    }
   ],
   "metadata": {}
  }
 ]
}